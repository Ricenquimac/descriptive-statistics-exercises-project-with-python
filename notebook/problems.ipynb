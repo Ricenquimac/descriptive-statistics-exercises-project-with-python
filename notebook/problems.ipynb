{
 "cells": [
  {
   "cell_type": "markdown",
   "id": "ac622319",
   "metadata": {},
   "source": [
    "# Descriptive statistics problems"
   ]
  },
  {
   "cell_type": "markdown",
   "id": "5e0ab0d5",
   "metadata": {},
   "source": [
    "### Exercise 1\n",
    "\n",
    "We will use NumPy to obtain information to describe statistically.\n",
    "\n",
    "- Generate an array of 100 elements following a normal distribution.\n",
    "- Generate an array of 100 elements following a chi-square distribution with 3 degrees of freedom.\n",
    "- Calculate the main metrics and statistical measures that best describe the two vectors."
   ]
  },
  {
   "cell_type": "code",
   "execution_count": 1,
   "id": "34720ab6",
   "metadata": {},
   "outputs": [
    {
     "name": "stdout",
     "output_type": "stream",
     "text": [
      "normal distribution: [ 0.78276429 -0.25257949 -0.07689389 -1.23833048  0.60369879 -0.99313725\n",
      "  0.61583617  0.283293   -1.01503838 -0.93914012  0.25296602  0.77256936\n",
      " -0.83124878 -0.24830725 -0.31194135 -0.42262124 -0.30742898  0.53725922\n",
      " -0.40877112  0.71451139  0.13988778 -0.48548173 -0.62463447  0.0600988\n",
      " -0.28319194 -2.43470863  0.4212038   0.78084914 -0.12535083 -0.9534833\n",
      "  1.47433432  0.775475    0.19581412 -0.75170695 -0.30939511  1.02183858\n",
      " -0.68017363 -1.16493866 -0.19280368  2.11021653  1.0970024   0.59126187\n",
      "  0.63804951 -0.25870271  0.38388438  1.82367361  0.22697157 -0.82821341\n",
      "  1.32073111 -1.70794558  0.16802778  0.95804772  0.25355256  0.05842771\n",
      " -0.16891543  0.05116094 -0.79074174  1.18592543  0.51355624 -0.46202845\n",
      "  0.31131784  0.24085596 -1.57631951  1.74300358 -0.87782117  0.52176025\n",
      " -0.43520572  2.36298217  0.5003365  -0.19271749  2.78241808  0.74785797\n",
      " -0.11927462  1.2550715   0.66990902  1.18909329  0.08163591 -0.57557187\n",
      "  0.32840003 -0.26444757  1.10334285 -0.91267873  0.60064551  1.0642018\n",
      "  0.87817807  0.34492266  0.20946268 -0.36507986  0.0081901  -0.07718239\n",
      "  0.30875204 -0.53795534  1.08742273 -0.44922579 -0.17048755  1.96058532\n",
      "  0.95524033  2.15991335 -0.48552069  0.19762332]\n",
      "chi-sqaure distribution: [ 4.188776    2.216685    7.17960998  2.97171929  3.32371751  8.2309583\n",
      "  1.65822022  4.35770818  2.18824415  2.55243129  2.62949903  6.42567576\n",
      "  3.79893708  0.23994121  0.77521065  6.86857059  0.21899488  2.10641692\n",
      "  0.43302659  0.32331567  3.88392671  3.25962741  3.58400722  1.81966653\n",
      "  0.06966252  4.35147085  1.62970125  2.37495453  1.66804089  3.64906079\n",
      "  5.32596887  3.27891192  2.24009771  6.4649701   0.46971681  1.14476643\n",
      "  1.2208098   9.46109103  2.14086554  7.20622641  1.30901581  0.23952946\n",
      "  0.54893566  2.13554791  2.94851704  3.15304146  3.40906364  3.29675356\n",
      "  3.86425822  3.07968846  0.79534463  0.77085085  2.87286424  0.85385297\n",
      "  3.83742072  0.11159493  0.36044322  1.40160433  3.59990846  0.63897544\n",
      "  1.67681923  1.69569561  0.49234586  4.9912074   5.18535879  3.3612929\n",
      "  0.48091638  2.99931737  1.96854783  1.11691686  1.43094274  3.48398114\n",
      "  7.19127535  5.7395678   0.40730232  6.48968846  2.55537006  2.74169998\n",
      "  3.22526871  0.8086354   0.532143    1.06629198 11.19161406  2.83482641\n",
      "  0.66848405  1.70281541  4.95040502  1.47481236  1.85468206  1.67932188\n",
      "  0.47681407  1.25722995  3.97090805  1.9490408   2.99145546  3.16326798\n",
      "  4.02478963  1.44423479  1.1962002   6.12496607]\n",
      "normal mean: 0.1811866916907574\n",
      "chi-sqaure mean: 2.7975486601426405\n",
      "normal median: 0.18192095263799368\n",
      "chi-sqaure median: 2.307526117442621\n",
      "normal mode: 0.7827642870424012\n",
      "chi-sqaure mode: 4.188775996079019\n",
      "normal distribution: 5.217126705074803\n",
      "chi-sqaure distribution: 11.121951537672116\n",
      "normal standard deviation: 0.9001546188974315\n",
      "chi-sqaure standard deviation: 2.197847743327952\n",
      "normal variance: 0.8102783379223801\n",
      "chi-sqaure variance: 4.8305347028517716\n",
      "normal kurtosis: 0.5305132081169526\n",
      "chi-sqaure kurtosis: 1.7325484379047555\n",
      "normal skewness: 0.24495069036072967\n",
      "chi-sqaure skewness: 1.260409766983978\n"
     ]
    }
   ],
   "source": [
    "# TODO\n",
    "import numpy as np\n",
    "\n",
    "#step1\n",
    "normal = np.random.normal(size=100)\n",
    "#step2\n",
    "chi_square = np.random.chisquare(3, 100)\n",
    "\n",
    "print(f\"normal distribution:\", normal)\n",
    "print(f\"chi-sqaure distribution:\", chi_square)\n",
    "\n",
    "#Step3\n",
    "import statistics as stats\n",
    "\n",
    "#Mean\n",
    "print(f\"normal mean: {stats.mean(normal)}\")\n",
    "print(f\"chi-sqaure mean: {stats.mean(chi_square)}\")\n",
    "\n",
    "#Median\n",
    "print(f\"normal median: {stats.median(normal)}\")\n",
    "print(f\"chi-sqaure median: {stats.median(chi_square)}\")\n",
    "\n",
    "#Mode\n",
    "print(f\"normal mode: {stats.mode(normal)}\")\n",
    "print(f\"chi-sqaure mode: {stats.mode(chi_square)}\")\n",
    "\n",
    "#Range\n",
    "normal_range = max(normal) - min(normal)\n",
    "chi_square_range = max(chi_square) - min(chi_square)\n",
    "\n",
    "print(f\"normal distribution:\", normal_range)\n",
    "print(f\"chi-sqaure distribution:\", chi_square_range)\n",
    "\n",
    "#Standard Deviantion\n",
    "print(f\"normal standard deviation: {stats.stdev(normal)}\")\n",
    "print(f\"chi-sqaure standard deviation: {stats.stdev(chi_square)}\")\n",
    "\n",
    "#Variance\n",
    "print(f\"normal variance: {stats.variance(normal)}\")\n",
    "print(f\"chi-sqaure variance: {stats.variance(chi_square)}\")\n",
    "\n",
    "#Kurtosis\n",
    "from scipy.stats import kurtosis\n",
    "print(f\"normal kurtosis: {kurtosis(normal)}\")\n",
    "print(f\"chi-sqaure kurtosis: {kurtosis(chi_square)}\")\n",
    "\n",
    "#Skewness\n",
    "from scipy.stats import skew\n",
    "print(f\"normal skewness: {skew(normal)}\")\n",
    "print(f\"chi-sqaure skewness: {skew(chi_square)}\")"
   ]
  },
  {
   "cell_type": "markdown",
   "id": "46c70c3d",
   "metadata": {},
   "source": [
    "### Exercise 2\n",
    "\n",
    "Write a Python program to calculate the standard deviation of the following data:\n",
    "\n",
    "```py\n",
    "data = [4, 2, 5, 8, 6]\n",
    "```"
   ]
  },
  {
   "cell_type": "code",
   "execution_count": 8,
   "id": "d590308e",
   "metadata": {},
   "outputs": [
    {
     "name": "stdout",
     "output_type": "stream",
     "text": [
      "[4, 2, 5, 8, 6]\n",
      "The mean is: 5.0\n",
      "The standard deviation is: 2.23606797749979\n"
     ]
    }
   ],
   "source": [
    "# TODO\n",
    "import statistics as stats\n",
    "import math\n",
    "data = [4, 2, 5, 8, 6]\n",
    " #Total Number of Observations   \n",
    "n = len(data)\n",
    "#Define the mean of the data\n",
    "def mean_data(data):\n",
    "    return sum(data)/ len(data)\n",
    "\n",
    "def standard_deviation(data):\n",
    "    n = len(data)\n",
    "    if n <= 1:\n",
    "        return 0.0\n",
    "    \n",
    "    #Sample average(mean)\n",
    "    mean = mean_data(data)\n",
    "    \n",
    "#standard deviantion calculation\n",
    "        #variance calculation\n",
    "    variance_sum = sum((x - mean) **2 for x in data)\n",
    "    standard_deviation = math.sqrt(variance_sum / (n -1))\n",
    "    return standard_deviation\n",
    "\n",
    " \n",
    "print (data)\n",
    "print (f\"The mean is:\", mean_data(data))\n",
    "print(f\"The standard deviation is:\", standard_deviation(data))\n"
   ]
  }
 ],
 "metadata": {
  "kernelspec": {
   "display_name": "Python 3",
   "language": "python",
   "name": "python3"
  },
  "language_info": {
   "codemirror_mode": {
    "name": "ipython",
    "version": 3
   },
   "file_extension": ".py",
   "mimetype": "text/x-python",
   "name": "python",
   "nbconvert_exporter": "python",
   "pygments_lexer": "ipython3",
   "version": "3.11.4"
  }
 },
 "nbformat": 4,
 "nbformat_minor": 5
}
